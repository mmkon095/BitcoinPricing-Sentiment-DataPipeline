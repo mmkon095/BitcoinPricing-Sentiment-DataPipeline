{
  "cells": [
    {
      "cell_type": "markdown",
      "metadata": {
        "id": "jlfTjd6HsxX_"
      },
      "source": [
        "Using the Binance API Websocket to get price data for BTC / USDT (Bitcoin/Tether) then saving to a CSV"
      ]
    },
    {
      "cell_type": "code",
      "execution_count": null,
      "metadata": {
        "id": "DthF6gUcs37r"
      },
      "outputs": [],
      "source": [
        "#Install the Binance library\n",
        "!pip install python-binance pandas"
      ]
    },
    {
      "cell_type": "code",
      "execution_count": 20,
      "metadata": {
        "id": "w0gt-gzAtf9K"
      },
      "outputs": [],
      "source": [
        "#Import our libraries and the config.py file which has our API keys\n",
        "from binance import Client, ThreadedWebsocketManager, ThreadedDepthCacheManager\n",
        "import pandas as pd\n",
        "from config import *"
      ]
    },
    {
      "cell_type": "code",
      "execution_count": 6,
      "metadata": {
        "id": "_lnv4XVPtn0r"
      },
      "outputs": [],
      "source": [
        "#Store our api connection in a variable\n",
        "client = Client(apikey, secret)"
      ]
    },
    {
      "cell_type": "code",
      "execution_count": 9,
      "metadata": {
        "id": "igZZHJ-Xt6Sy"
      },
      "outputs": [],
      "source": [
        "#Use the client to get daily BTCUSDT ticker data from 1/1/2018 to today\n",
        "historical = client.get_historical_klines('BTCUSDT', Client.KLINE_INTERVAL_1DAY, '1 Jan 2018')"
      ]
    },
    {
      "cell_type": "code",
      "execution_count": 12,
      "metadata": {
        "id": "pNUOq-hRvc4G"
      },
      "outputs": [],
      "source": [
        "#Store our ticker data in a pandas dataframe\n",
        "hist_df = pd.DataFrame(historical)"
      ]
    },
    {
      "cell_type": "code",
      "execution_count": 13,
      "metadata": {
        "id": "980AdDf7vvXE"
      },
      "outputs": [],
      "source": [
        "#Name and attach columns to the ticker dataframe\n",
        "hist_df.columns = ['Open Time', 'Open', 'High', 'Low', 'Close', 'Volume', 'Close Time', 'Quote Asset Volume', \n",
        "                    'Number of Trades', 'TB Base Volume', 'TB Quote Volume', 'Ignore']"
      ]
    },
    {
      "cell_type": "code",
      "execution_count": 15,
      "metadata": {
        "id": "0NLdFjiav_UP"
      },
      "outputs": [],
      "source": [
        "#Convert to date columns to appropriate datetime pandas columns\n",
        "hist_df['Open Time'] = pd.to_datetime(hist_df['Open Time']/1000, unit='s')\n",
        "hist_df['Close Time'] = pd.to_datetime(hist_df['Close Time']/1000, unit='s')"
      ]
    },
    {
      "cell_type": "code",
      "execution_count": 16,
      "metadata": {
        "id": "N3MOSzQ3wAdB"
      },
      "outputs": [],
      "source": [
        "#Store our numeric column names in a variable\n",
        "numeric_columns = ['Open', 'High', 'Low', 'Close', 'Volume', 'Quote Asset Volume', 'TB Base Volume', 'TB Quote Volume']"
      ]
    },
    {
      "cell_type": "code",
      "execution_count": 17,
      "metadata": {
        "id": "Epw0Zl7DwDN0"
      },
      "outputs": [],
      "source": [
        "#Convert our numeric columns to numeric type\n",
        "hist_df[numeric_columns] = hist_df[numeric_columns].apply(pd.to_numeric, axis=1)"
      ]
    },
    {
      "cell_type": "code",
      "execution_count": 18,
      "metadata": {
        "id": "vUTBF95Owot8"
      },
      "outputs": [],
      "source": [
        "#Save our ticker price data to a csv\n",
        "hist_df.to_csv(\"btc_price.csv\")"
      ]
    }
  ],
  "metadata": {
    "colab": {
      "collapsed_sections": [],
      "name": "Dataeng.ipynb",
      "provenance": []
    },
    "interpreter": {
      "hash": "824480eebd21a519a881ff5077d4bf7e625c132ad9908a62de3ad1328dc859e8"
    },
    "kernelspec": {
      "display_name": "Python 3.9.7 ('base')",
      "language": "python",
      "name": "python3"
    },
    "language_info": {
      "codemirror_mode": {
        "name": "ipython",
        "version": 3
      },
      "file_extension": ".py",
      "mimetype": "text/x-python",
      "name": "python",
      "nbconvert_exporter": "python",
      "pygments_lexer": "ipython3",
      "version": "3.9.7"
    }
  },
  "nbformat": 4,
  "nbformat_minor": 0
}
